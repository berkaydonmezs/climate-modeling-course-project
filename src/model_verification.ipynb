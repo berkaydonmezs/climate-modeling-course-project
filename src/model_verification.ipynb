{
 "cells": [
  {
   "cell_type": "markdown",
   "id": "81294208-2791-47b8-b2ee-34ea46e8501a",
   "metadata": {},
   "source": [
    "#### Notebook 2\n",
    "\n",
    "- Monthly and seasonal verification of model simulations"
   ]
  },
  {
   "cell_type": "code",
   "execution_count": 1,
   "id": "b057aa76-ea47-4a4c-bc44-b9f6671ee02b",
   "metadata": {},
   "outputs": [],
   "source": [
    "%reload_ext autoreload\n",
    "%autoreload 2\n",
    "\n",
    "import xarray as xr\n",
    "import rioxarray\n",
    "import cartopy\n",
    "import pyproj\n",
    "import numpy as np\n",
    "import xskillscore\n",
    "\n",
    "import util"
   ]
  },
  {
   "cell_type": "markdown",
   "id": "ec4ea7de-5449-422a-8173-7e1d55ce57ac",
   "metadata": {},
   "source": [
    "##### Variable options\n",
    "\n",
    "var_type:\n",
    "- single or pressure\n",
    "\n",
    "var:\n",
    "- single: t2m, prec\n",
    "- pressure: t, relhum, geopotential"
   ]
  },
  {
   "cell_type": "code",
   "execution_count": 97,
   "id": "6069ebef-9911-4ae0-bcd2-5e3704fcfad5",
   "metadata": {},
   "outputs": [],
   "source": [
    "var_type = 'single'\n",
    "var = 't2m'\n",
    "start_date = '2008-06-01'\n",
    "end_date = '2009-02-28'\n",
    "agg_by = 'mean' # aggregation type \n",
    "agg_for = '1M' # aggregate for"
   ]
  },
  {
   "cell_type": "markdown",
   "id": "02ce8d40-8b80-4919-9b12-34bb751a2cda",
   "metadata": {},
   "source": [
    "Retrieve aggregated ERA5 and model files"
   ]
  },
  {
   "cell_type": "code",
   "execution_count": 98,
   "id": "ad3efbdc-69e7-42e9-9eda-b3527e278e19",
   "metadata": {},
   "outputs": [],
   "source": [
    "da_model, da_era = util.get_model_era_files(var_type=var_type, var=var,\n",
    "                                            start_date=start_date, end_date=end_date,)\n",
    "                                            #aggregate=\"6H\")"
   ]
  },
  {
   "cell_type": "markdown",
   "id": "a5f90726-4c11-4e5c-8b89-364460126a3f",
   "metadata": {},
   "source": [
    "Regrid and interpolate ERA5 data to the model grid"
   ]
  },
  {
   "cell_type": "code",
   "execution_count": 99,
   "id": "4bbadaf6-446e-400d-a76b-4f5fbb263c8b",
   "metadata": {},
   "outputs": [],
   "source": [
    "# regrid\n",
    "model_proj = util.ModelProj().crs_info_model # crs info for the model\n",
    "era_proj = 4326 # input esg code for era\n",
    "\n",
    "da_model, da_era = util.regrid_match(da_model, da_era,\n",
    "                                     model_proj, era_proj)"
   ]
  },
  {
   "cell_type": "code",
   "execution_count": 100,
   "id": "f8f4bc07-3eed-4026-b066-36e2ee06e7fb",
   "metadata": {},
   "outputs": [],
   "source": [
    "# interpolate\n",
    "rlat, rlon, time = da_model.indexes.values()\n",
    "da_era = da_era.interp(rlon=rlon, rlat=rlat, method=\"nearest\") # interp to model grid"
   ]
  },
  {
   "cell_type": "code",
   "execution_count": 101,
   "id": "9fd2e3f5-1176-4b8c-8421-7a684f194e9d",
   "metadata": {},
   "outputs": [],
   "source": [
    "if var==\"prec\":\n",
    "    da_era = da_era*1000 # m to mm"
   ]
  },
  {
   "cell_type": "markdown",
   "id": "91d6cc15-7540-4bc4-adce-45dcb90e7d2f",
   "metadata": {},
   "source": [
    "##### Monthly Verification"
   ]
  },
  {
   "cell_type": "code",
   "execution_count": 18,
   "id": "90d59513-18ad-41ef-9707-06ef4a11684f",
   "metadata": {},
   "outputs": [
    {
     "name": "stdout",
     "output_type": "stream",
     "text": [
      "Warning: aggregating by 1M sum\n",
      "Warning: aggregating by 1M sum\n"
     ]
    }
   ],
   "source": [
    "da_model_aggr = util.aggregate_file(da_model, agg_by, agg_for)\n",
    "da_era_aggr = util.aggregate_file(da_era, agg_by, agg_for)"
   ]
  },
  {
   "cell_type": "code",
   "execution_count": 20,
   "id": "369f3852-51c8-4c45-814b-b5025c8bc5fe",
   "metadata": {},
   "outputs": [],
   "source": [
    "da_monthly_verif = (da_model_aggr - da_era_aggr)"
   ]
  },
  {
   "cell_type": "code",
   "execution_count": 21,
   "id": "39a0073e-71d6-4de3-955b-9f364b9aed17",
   "metadata": {},
   "outputs": [
    {
     "data": {
      "text/html": [
       "<div><svg style=\"position: absolute; width: 0; height: 0; overflow: hidden\">\n",
       "<defs>\n",
       "<symbol id=\"icon-database\" viewBox=\"0 0 32 32\">\n",
       "<path d=\"M16 0c-8.837 0-16 2.239-16 5v4c0 2.761 7.163 5 16 5s16-2.239 16-5v-4c0-2.761-7.163-5-16-5z\"></path>\n",
       "<path d=\"M16 17c-8.837 0-16-2.239-16-5v6c0 2.761 7.163 5 16 5s16-2.239 16-5v-6c0 2.761-7.163 5-16 5z\"></path>\n",
       "<path d=\"M16 26c-8.837 0-16-2.239-16-5v6c0 2.761 7.163 5 16 5s16-2.239 16-5v-6c0 2.761-7.163 5-16 5z\"></path>\n",
       "</symbol>\n",
       "<symbol id=\"icon-file-text2\" viewBox=\"0 0 32 32\">\n",
       "<path d=\"M28.681 7.159c-0.694-0.947-1.662-2.053-2.724-3.116s-2.169-2.030-3.116-2.724c-1.612-1.182-2.393-1.319-2.841-1.319h-15.5c-1.378 0-2.5 1.121-2.5 2.5v27c0 1.378 1.122 2.5 2.5 2.5h23c1.378 0 2.5-1.122 2.5-2.5v-19.5c0-0.448-0.137-1.23-1.319-2.841zM24.543 5.457c0.959 0.959 1.712 1.825 2.268 2.543h-4.811v-4.811c0.718 0.556 1.584 1.309 2.543 2.268zM28 29.5c0 0.271-0.229 0.5-0.5 0.5h-23c-0.271 0-0.5-0.229-0.5-0.5v-27c0-0.271 0.229-0.5 0.5-0.5 0 0 15.499-0 15.5 0v7c0 0.552 0.448 1 1 1h7v19.5z\"></path>\n",
       "<path d=\"M23 26h-14c-0.552 0-1-0.448-1-1s0.448-1 1-1h14c0.552 0 1 0.448 1 1s-0.448 1-1 1z\"></path>\n",
       "<path d=\"M23 22h-14c-0.552 0-1-0.448-1-1s0.448-1 1-1h14c0.552 0 1 0.448 1 1s-0.448 1-1 1z\"></path>\n",
       "<path d=\"M23 18h-14c-0.552 0-1-0.448-1-1s0.448-1 1-1h14c0.552 0 1 0.448 1 1s-0.448 1-1 1z\"></path>\n",
       "</symbol>\n",
       "</defs>\n",
       "</svg>\n",
       "<style>/* CSS stylesheet for displaying xarray objects in jupyterlab.\n",
       " *\n",
       " */\n",
       "\n",
       ":root {\n",
       "  --xr-font-color0: var(--jp-content-font-color0, rgba(0, 0, 0, 1));\n",
       "  --xr-font-color2: var(--jp-content-font-color2, rgba(0, 0, 0, 0.54));\n",
       "  --xr-font-color3: var(--jp-content-font-color3, rgba(0, 0, 0, 0.38));\n",
       "  --xr-border-color: var(--jp-border-color2, #e0e0e0);\n",
       "  --xr-disabled-color: var(--jp-layout-color3, #bdbdbd);\n",
       "  --xr-background-color: var(--jp-layout-color0, white);\n",
       "  --xr-background-color-row-even: var(--jp-layout-color1, white);\n",
       "  --xr-background-color-row-odd: var(--jp-layout-color2, #eeeeee);\n",
       "}\n",
       "\n",
       "html[theme=dark],\n",
       "body.vscode-dark {\n",
       "  --xr-font-color0: rgba(255, 255, 255, 1);\n",
       "  --xr-font-color2: rgba(255, 255, 255, 0.54);\n",
       "  --xr-font-color3: rgba(255, 255, 255, 0.38);\n",
       "  --xr-border-color: #1F1F1F;\n",
       "  --xr-disabled-color: #515151;\n",
       "  --xr-background-color: #111111;\n",
       "  --xr-background-color-row-even: #111111;\n",
       "  --xr-background-color-row-odd: #313131;\n",
       "}\n",
       "\n",
       ".xr-wrap {\n",
       "  display: block;\n",
       "  min-width: 300px;\n",
       "  max-width: 700px;\n",
       "}\n",
       "\n",
       ".xr-text-repr-fallback {\n",
       "  /* fallback to plain text repr when CSS is not injected (untrusted notebook) */\n",
       "  display: none;\n",
       "}\n",
       "\n",
       ".xr-header {\n",
       "  padding-top: 6px;\n",
       "  padding-bottom: 6px;\n",
       "  margin-bottom: 4px;\n",
       "  border-bottom: solid 1px var(--xr-border-color);\n",
       "}\n",
       "\n",
       ".xr-header > div,\n",
       ".xr-header > ul {\n",
       "  display: inline;\n",
       "  margin-top: 0;\n",
       "  margin-bottom: 0;\n",
       "}\n",
       "\n",
       ".xr-obj-type,\n",
       ".xr-array-name {\n",
       "  margin-left: 2px;\n",
       "  margin-right: 10px;\n",
       "}\n",
       "\n",
       ".xr-obj-type {\n",
       "  color: var(--xr-font-color2);\n",
       "}\n",
       "\n",
       ".xr-sections {\n",
       "  padding-left: 0 !important;\n",
       "  display: grid;\n",
       "  grid-template-columns: 150px auto auto 1fr 20px 20px;\n",
       "}\n",
       "\n",
       ".xr-section-item {\n",
       "  display: contents;\n",
       "}\n",
       "\n",
       ".xr-section-item input {\n",
       "  display: none;\n",
       "}\n",
       "\n",
       ".xr-section-item input + label {\n",
       "  color: var(--xr-disabled-color);\n",
       "}\n",
       "\n",
       ".xr-section-item input:enabled + label {\n",
       "  cursor: pointer;\n",
       "  color: var(--xr-font-color2);\n",
       "}\n",
       "\n",
       ".xr-section-item input:enabled + label:hover {\n",
       "  color: var(--xr-font-color0);\n",
       "}\n",
       "\n",
       ".xr-section-summary {\n",
       "  grid-column: 1;\n",
       "  color: var(--xr-font-color2);\n",
       "  font-weight: 500;\n",
       "}\n",
       "\n",
       ".xr-section-summary > span {\n",
       "  display: inline-block;\n",
       "  padding-left: 0.5em;\n",
       "}\n",
       "\n",
       ".xr-section-summary-in:disabled + label {\n",
       "  color: var(--xr-font-color2);\n",
       "}\n",
       "\n",
       ".xr-section-summary-in + label:before {\n",
       "  display: inline-block;\n",
       "  content: '►';\n",
       "  font-size: 11px;\n",
       "  width: 15px;\n",
       "  text-align: center;\n",
       "}\n",
       "\n",
       ".xr-section-summary-in:disabled + label:before {\n",
       "  color: var(--xr-disabled-color);\n",
       "}\n",
       "\n",
       ".xr-section-summary-in:checked + label:before {\n",
       "  content: '▼';\n",
       "}\n",
       "\n",
       ".xr-section-summary-in:checked + label > span {\n",
       "  display: none;\n",
       "}\n",
       "\n",
       ".xr-section-summary,\n",
       ".xr-section-inline-details {\n",
       "  padding-top: 4px;\n",
       "  padding-bottom: 4px;\n",
       "}\n",
       "\n",
       ".xr-section-inline-details {\n",
       "  grid-column: 2 / -1;\n",
       "}\n",
       "\n",
       ".xr-section-details {\n",
       "  display: none;\n",
       "  grid-column: 1 / -1;\n",
       "  margin-bottom: 5px;\n",
       "}\n",
       "\n",
       ".xr-section-summary-in:checked ~ .xr-section-details {\n",
       "  display: contents;\n",
       "}\n",
       "\n",
       ".xr-array-wrap {\n",
       "  grid-column: 1 / -1;\n",
       "  display: grid;\n",
       "  grid-template-columns: 20px auto;\n",
       "}\n",
       "\n",
       ".xr-array-wrap > label {\n",
       "  grid-column: 1;\n",
       "  vertical-align: top;\n",
       "}\n",
       "\n",
       ".xr-preview {\n",
       "  color: var(--xr-font-color3);\n",
       "}\n",
       "\n",
       ".xr-array-preview,\n",
       ".xr-array-data {\n",
       "  padding: 0 5px !important;\n",
       "  grid-column: 2;\n",
       "}\n",
       "\n",
       ".xr-array-data,\n",
       ".xr-array-in:checked ~ .xr-array-preview {\n",
       "  display: none;\n",
       "}\n",
       "\n",
       ".xr-array-in:checked ~ .xr-array-data,\n",
       ".xr-array-preview {\n",
       "  display: inline-block;\n",
       "}\n",
       "\n",
       ".xr-dim-list {\n",
       "  display: inline-block !important;\n",
       "  list-style: none;\n",
       "  padding: 0 !important;\n",
       "  margin: 0;\n",
       "}\n",
       "\n",
       ".xr-dim-list li {\n",
       "  display: inline-block;\n",
       "  padding: 0;\n",
       "  margin: 0;\n",
       "}\n",
       "\n",
       ".xr-dim-list:before {\n",
       "  content: '(';\n",
       "}\n",
       "\n",
       ".xr-dim-list:after {\n",
       "  content: ')';\n",
       "}\n",
       "\n",
       ".xr-dim-list li:not(:last-child):after {\n",
       "  content: ',';\n",
       "  padding-right: 5px;\n",
       "}\n",
       "\n",
       ".xr-has-index {\n",
       "  font-weight: bold;\n",
       "}\n",
       "\n",
       ".xr-var-list,\n",
       ".xr-var-item {\n",
       "  display: contents;\n",
       "}\n",
       "\n",
       ".xr-var-item > div,\n",
       ".xr-var-item label,\n",
       ".xr-var-item > .xr-var-name span {\n",
       "  background-color: var(--xr-background-color-row-even);\n",
       "  margin-bottom: 0;\n",
       "}\n",
       "\n",
       ".xr-var-item > .xr-var-name:hover span {\n",
       "  padding-right: 5px;\n",
       "}\n",
       "\n",
       ".xr-var-list > li:nth-child(odd) > div,\n",
       ".xr-var-list > li:nth-child(odd) > label,\n",
       ".xr-var-list > li:nth-child(odd) > .xr-var-name span {\n",
       "  background-color: var(--xr-background-color-row-odd);\n",
       "}\n",
       "\n",
       ".xr-var-name {\n",
       "  grid-column: 1;\n",
       "}\n",
       "\n",
       ".xr-var-dims {\n",
       "  grid-column: 2;\n",
       "}\n",
       "\n",
       ".xr-var-dtype {\n",
       "  grid-column: 3;\n",
       "  text-align: right;\n",
       "  color: var(--xr-font-color2);\n",
       "}\n",
       "\n",
       ".xr-var-preview {\n",
       "  grid-column: 4;\n",
       "}\n",
       "\n",
       ".xr-var-name,\n",
       ".xr-var-dims,\n",
       ".xr-var-dtype,\n",
       ".xr-preview,\n",
       ".xr-attrs dt {\n",
       "  white-space: nowrap;\n",
       "  overflow: hidden;\n",
       "  text-overflow: ellipsis;\n",
       "  padding-right: 10px;\n",
       "}\n",
       "\n",
       ".xr-var-name:hover,\n",
       ".xr-var-dims:hover,\n",
       ".xr-var-dtype:hover,\n",
       ".xr-attrs dt:hover {\n",
       "  overflow: visible;\n",
       "  width: auto;\n",
       "  z-index: 1;\n",
       "}\n",
       "\n",
       ".xr-var-attrs,\n",
       ".xr-var-data {\n",
       "  display: none;\n",
       "  background-color: var(--xr-background-color) !important;\n",
       "  padding-bottom: 5px !important;\n",
       "}\n",
       "\n",
       ".xr-var-attrs-in:checked ~ .xr-var-attrs,\n",
       ".xr-var-data-in:checked ~ .xr-var-data {\n",
       "  display: block;\n",
       "}\n",
       "\n",
       ".xr-var-data > table {\n",
       "  float: right;\n",
       "}\n",
       "\n",
       ".xr-var-name span,\n",
       ".xr-var-data,\n",
       ".xr-attrs {\n",
       "  padding-left: 25px !important;\n",
       "}\n",
       "\n",
       ".xr-attrs,\n",
       ".xr-var-attrs,\n",
       ".xr-var-data {\n",
       "  grid-column: 1 / -1;\n",
       "}\n",
       "\n",
       "dl.xr-attrs {\n",
       "  padding: 0;\n",
       "  margin: 0;\n",
       "  display: grid;\n",
       "  grid-template-columns: 125px auto;\n",
       "}\n",
       "\n",
       ".xr-attrs dt,\n",
       ".xr-attrs dd {\n",
       "  padding: 0;\n",
       "  margin: 0;\n",
       "  float: left;\n",
       "  padding-right: 10px;\n",
       "  width: auto;\n",
       "}\n",
       "\n",
       ".xr-attrs dt {\n",
       "  font-weight: normal;\n",
       "  grid-column: 1;\n",
       "}\n",
       "\n",
       ".xr-attrs dt:hover span {\n",
       "  display: inline-block;\n",
       "  background: var(--xr-background-color);\n",
       "  padding-right: 10px;\n",
       "}\n",
       "\n",
       ".xr-attrs dd {\n",
       "  grid-column: 2;\n",
       "  white-space: pre-wrap;\n",
       "  word-break: break-all;\n",
       "}\n",
       "\n",
       ".xr-icon-database,\n",
       ".xr-icon-file-text2 {\n",
       "  display: inline-block;\n",
       "  vertical-align: middle;\n",
       "  width: 1em;\n",
       "  height: 1.5em !important;\n",
       "  stroke-width: 0;\n",
       "  stroke: currentColor;\n",
       "  fill: currentColor;\n",
       "}\n",
       "</style><pre class='xr-text-repr-fallback'>&lt;xarray.DataArray &#x27;time&#x27; (time: 9)&gt;\n",
       "array([&#x27;2008-06-30T00:00:00.000000000&#x27;, &#x27;2008-07-31T00:00:00.000000000&#x27;,\n",
       "       &#x27;2008-08-31T00:00:00.000000000&#x27;, &#x27;2008-09-30T00:00:00.000000000&#x27;,\n",
       "       &#x27;2008-10-31T00:00:00.000000000&#x27;, &#x27;2008-11-30T00:00:00.000000000&#x27;,\n",
       "       &#x27;2008-12-31T00:00:00.000000000&#x27;, &#x27;2009-01-31T00:00:00.000000000&#x27;,\n",
       "       &#x27;2009-02-28T00:00:00.000000000&#x27;], dtype=&#x27;datetime64[ns]&#x27;)\n",
       "Coordinates:\n",
       "  * time          (time) datetime64[ns] 2008-06-30 2008-07-31 ... 2009-02-28\n",
       "    rotated_pole  int64 0\n",
       "    spatial_ref   int64 0</pre><div class='xr-wrap' hidden><div class='xr-header'><div class='xr-obj-type'>xarray.DataArray</div><div class='xr-array-name'>'time'</div><ul class='xr-dim-list'><li><span class='xr-has-index'>time</span>: 9</li></ul></div><ul class='xr-sections'><li class='xr-section-item'><div class='xr-array-wrap'><input id='section-b3f51183-71d0-48fb-ab21-24b897c30ddb' class='xr-array-in' type='checkbox' checked><label for='section-b3f51183-71d0-48fb-ab21-24b897c30ddb' title='Show/hide data repr'><svg class='icon xr-icon-database'><use xlink:href='#icon-database'></use></svg></label><div class='xr-array-preview xr-preview'><span>2008-06-30 2008-07-31 2008-08-31 ... 2008-12-31 2009-01-31 2009-02-28</span></div><div class='xr-array-data'><pre>array([&#x27;2008-06-30T00:00:00.000000000&#x27;, &#x27;2008-07-31T00:00:00.000000000&#x27;,\n",
       "       &#x27;2008-08-31T00:00:00.000000000&#x27;, &#x27;2008-09-30T00:00:00.000000000&#x27;,\n",
       "       &#x27;2008-10-31T00:00:00.000000000&#x27;, &#x27;2008-11-30T00:00:00.000000000&#x27;,\n",
       "       &#x27;2008-12-31T00:00:00.000000000&#x27;, &#x27;2009-01-31T00:00:00.000000000&#x27;,\n",
       "       &#x27;2009-02-28T00:00:00.000000000&#x27;], dtype=&#x27;datetime64[ns]&#x27;)</pre></div></div></li><li class='xr-section-item'><input id='section-c071229a-091d-42a2-b60d-b051a5ba845d' class='xr-section-summary-in' type='checkbox'  checked><label for='section-c071229a-091d-42a2-b60d-b051a5ba845d' class='xr-section-summary' >Coordinates: <span>(3)</span></label><div class='xr-section-inline-details'></div><div class='xr-section-details'><ul class='xr-var-list'><li class='xr-var-item'><div class='xr-var-name'><span class='xr-has-index'>time</span></div><div class='xr-var-dims'>(time)</div><div class='xr-var-dtype'>datetime64[ns]</div><div class='xr-var-preview xr-preview'>2008-06-30 ... 2009-02-28</div><input id='attrs-25c491d3-3740-4dba-83a4-0022fbbb21f9' class='xr-var-attrs-in' type='checkbox' disabled><label for='attrs-25c491d3-3740-4dba-83a4-0022fbbb21f9' title='Show/Hide attributes'><svg class='icon xr-icon-file-text2'><use xlink:href='#icon-file-text2'></use></svg></label><input id='data-c29f09ed-f999-4dc3-8c93-d6dd01fb298f' class='xr-var-data-in' type='checkbox'><label for='data-c29f09ed-f999-4dc3-8c93-d6dd01fb298f' title='Show/Hide data repr'><svg class='icon xr-icon-database'><use xlink:href='#icon-database'></use></svg></label><div class='xr-var-attrs'><dl class='xr-attrs'></dl></div><div class='xr-var-data'><pre>array([&#x27;2008-06-30T00:00:00.000000000&#x27;, &#x27;2008-07-31T00:00:00.000000000&#x27;,\n",
       "       &#x27;2008-08-31T00:00:00.000000000&#x27;, &#x27;2008-09-30T00:00:00.000000000&#x27;,\n",
       "       &#x27;2008-10-31T00:00:00.000000000&#x27;, &#x27;2008-11-30T00:00:00.000000000&#x27;,\n",
       "       &#x27;2008-12-31T00:00:00.000000000&#x27;, &#x27;2009-01-31T00:00:00.000000000&#x27;,\n",
       "       &#x27;2009-02-28T00:00:00.000000000&#x27;], dtype=&#x27;datetime64[ns]&#x27;)</pre></div></li><li class='xr-var-item'><div class='xr-var-name'><span>rotated_pole</span></div><div class='xr-var-dims'>()</div><div class='xr-var-dtype'>int64</div><div class='xr-var-preview xr-preview'>0</div><input id='attrs-687482af-f065-43e6-8a2c-7f0c42ba7c78' class='xr-var-attrs-in' type='checkbox' ><label for='attrs-687482af-f065-43e6-8a2c-7f0c42ba7c78' title='Show/Hide attributes'><svg class='icon xr-icon-file-text2'><use xlink:href='#icon-file-text2'></use></svg></label><input id='data-5f59a99a-ac51-48fa-b9fd-e60f2e8fa9ab' class='xr-var-data-in' type='checkbox'><label for='data-5f59a99a-ac51-48fa-b9fd-e60f2e8fa9ab' title='Show/Hide data repr'><svg class='icon xr-icon-database'><use xlink:href='#icon-database'></use></svg></label><div class='xr-var-attrs'><dl class='xr-attrs'><dt><span>crs_wkt :</span></dt><dd>GEOGCRS[&quot;unnamed&quot;,BASEGEOGCRS[&quot;unknown&quot;,DATUM[&quot;unknown&quot;,ELLIPSOID[&quot;WGS 84&quot;,6378137,298.257223563,LENGTHUNIT[&quot;metre&quot;,1,ID[&quot;EPSG&quot;,9001]]]],PRIMEM[&quot;Greenwich&quot;,0,ANGLEUNIT[&quot;degree&quot;,0.0174532925199433],ID[&quot;EPSG&quot;,8901]]],DERIVINGCONVERSION[&quot;unknown&quot;,METHOD[&quot;PROJ ob_tran o_proj=latlon&quot;],PARAMETER[&quot;o_lon_p&quot;,0,ANGLEUNIT[&quot;degree&quot;,0.0174532925199433,ID[&quot;EPSG&quot;,9122]]],PARAMETER[&quot;o_lat_p&quot;,50,ANGLEUNIT[&quot;degree&quot;,0.0174532925199433,ID[&quot;EPSG&quot;,9122]]],PARAMETER[&quot;lon_0&quot;,33,ANGLEUNIT[&quot;degree&quot;,0.0174532925199433,ID[&quot;EPSG&quot;,9122]]]],CS[ellipsoidal,2],AXIS[&quot;longitude&quot;,east,ORDER[1],ANGLEUNIT[&quot;degree&quot;,0.0174532925199433,ID[&quot;EPSG&quot;,9122]]],AXIS[&quot;latitude&quot;,north,ORDER[2],ANGLEUNIT[&quot;degree&quot;,0.0174532925199433,ID[&quot;EPSG&quot;,9122]]]]</dd><dt><span>semi_major_axis :</span></dt><dd>6378137.0</dd><dt><span>semi_minor_axis :</span></dt><dd>6356752.314245179</dd><dt><span>inverse_flattening :</span></dt><dd>298.257223563</dd><dt><span>reference_ellipsoid_name :</span></dt><dd>WGS 84</dd><dt><span>longitude_of_prime_meridian :</span></dt><dd>0.0</dd><dt><span>prime_meridian_name :</span></dt><dd>Greenwich</dd><dt><span>geographic_crs_name :</span></dt><dd>unnamed</dd><dt><span>grid_mapping_name :</span></dt><dd>rotated_latitude_longitude</dd><dt><span>grid_north_pole_latitude :</span></dt><dd>50.0</dd><dt><span>grid_north_pole_longitude :</span></dt><dd>0.0</dd><dt><span>north_pole_grid_longitude :</span></dt><dd>-147.0</dd><dt><span>horizontal_datum_name :</span></dt><dd>unknown</dd><dt><span>spatial_ref :</span></dt><dd>GEOGCRS[&quot;unnamed&quot;,BASEGEOGCRS[&quot;unknown&quot;,DATUM[&quot;unknown&quot;,ELLIPSOID[&quot;WGS 84&quot;,6378137,298.257223563,LENGTHUNIT[&quot;metre&quot;,1,ID[&quot;EPSG&quot;,9001]]]],PRIMEM[&quot;Greenwich&quot;,0,ANGLEUNIT[&quot;degree&quot;,0.0174532925199433],ID[&quot;EPSG&quot;,8901]]],DERIVINGCONVERSION[&quot;unknown&quot;,METHOD[&quot;PROJ ob_tran o_proj=latlon&quot;],PARAMETER[&quot;o_lon_p&quot;,0,ANGLEUNIT[&quot;degree&quot;,0.0174532925199433,ID[&quot;EPSG&quot;,9122]]],PARAMETER[&quot;o_lat_p&quot;,50,ANGLEUNIT[&quot;degree&quot;,0.0174532925199433,ID[&quot;EPSG&quot;,9122]]],PARAMETER[&quot;lon_0&quot;,33,ANGLEUNIT[&quot;degree&quot;,0.0174532925199433,ID[&quot;EPSG&quot;,9122]]]],CS[ellipsoidal,2],AXIS[&quot;longitude&quot;,east,ORDER[1],ANGLEUNIT[&quot;degree&quot;,0.0174532925199433,ID[&quot;EPSG&quot;,9122]]],AXIS[&quot;latitude&quot;,north,ORDER[2],ANGLEUNIT[&quot;degree&quot;,0.0174532925199433,ID[&quot;EPSG&quot;,9122]]]]</dd></dl></div><div class='xr-var-data'><pre>array(0)</pre></div></li><li class='xr-var-item'><div class='xr-var-name'><span>spatial_ref</span></div><div class='xr-var-dims'>()</div><div class='xr-var-dtype'>int64</div><div class='xr-var-preview xr-preview'>0</div><input id='attrs-458467da-a378-4599-adbf-ab6e158e0130' class='xr-var-attrs-in' type='checkbox' ><label for='attrs-458467da-a378-4599-adbf-ab6e158e0130' title='Show/Hide attributes'><svg class='icon xr-icon-file-text2'><use xlink:href='#icon-file-text2'></use></svg></label><input id='data-d619638f-1b5f-4539-8246-69786542c3bc' class='xr-var-data-in' type='checkbox'><label for='data-d619638f-1b5f-4539-8246-69786542c3bc' title='Show/Hide data repr'><svg class='icon xr-icon-database'><use xlink:href='#icon-database'></use></svg></label><div class='xr-var-attrs'><dl class='xr-attrs'><dt><span>crs_wkt :</span></dt><dd>GEOGCRS[&quot;unnamed&quot;,BASEGEOGCRS[&quot;unknown&quot;,DATUM[&quot;unknown&quot;,ELLIPSOID[&quot;WGS 84&quot;,6378137,298.257223563,LENGTHUNIT[&quot;metre&quot;,1,ID[&quot;EPSG&quot;,9001]]]],PRIMEM[&quot;Greenwich&quot;,0,ANGLEUNIT[&quot;degree&quot;,0.0174532925199433],ID[&quot;EPSG&quot;,8901]]],DERIVINGCONVERSION[&quot;unknown&quot;,METHOD[&quot;PROJ ob_tran o_proj=latlon&quot;],PARAMETER[&quot;o_lon_p&quot;,0,ANGLEUNIT[&quot;degree&quot;,0.0174532925199433,ID[&quot;EPSG&quot;,9122]]],PARAMETER[&quot;o_lat_p&quot;,50,ANGLEUNIT[&quot;degree&quot;,0.0174532925199433,ID[&quot;EPSG&quot;,9122]]],PARAMETER[&quot;lon_0&quot;,33,ANGLEUNIT[&quot;degree&quot;,0.0174532925199433,ID[&quot;EPSG&quot;,9122]]]],CS[ellipsoidal,2],AXIS[&quot;longitude&quot;,east,ORDER[1],ANGLEUNIT[&quot;degree&quot;,0.0174532925199433,ID[&quot;EPSG&quot;,9122]]],AXIS[&quot;latitude&quot;,north,ORDER[2],ANGLEUNIT[&quot;degree&quot;,0.0174532925199433,ID[&quot;EPSG&quot;,9122]]]]</dd><dt><span>semi_major_axis :</span></dt><dd>6378137.0</dd><dt><span>semi_minor_axis :</span></dt><dd>6356752.314245179</dd><dt><span>inverse_flattening :</span></dt><dd>298.257223563</dd><dt><span>reference_ellipsoid_name :</span></dt><dd>WGS 84</dd><dt><span>longitude_of_prime_meridian :</span></dt><dd>0.0</dd><dt><span>prime_meridian_name :</span></dt><dd>Greenwich</dd><dt><span>geographic_crs_name :</span></dt><dd>unnamed</dd><dt><span>grid_mapping_name :</span></dt><dd>rotated_latitude_longitude</dd><dt><span>grid_north_pole_latitude :</span></dt><dd>50.0</dd><dt><span>grid_north_pole_longitude :</span></dt><dd>0.0</dd><dt><span>north_pole_grid_longitude :</span></dt><dd>-147.0</dd><dt><span>horizontal_datum_name :</span></dt><dd>unknown</dd><dt><span>spatial_ref :</span></dt><dd>GEOGCRS[&quot;unnamed&quot;,BASEGEOGCRS[&quot;unknown&quot;,DATUM[&quot;unknown&quot;,ELLIPSOID[&quot;WGS 84&quot;,6378137,298.257223563,LENGTHUNIT[&quot;metre&quot;,1,ID[&quot;EPSG&quot;,9001]]]],PRIMEM[&quot;Greenwich&quot;,0,ANGLEUNIT[&quot;degree&quot;,0.0174532925199433],ID[&quot;EPSG&quot;,8901]]],DERIVINGCONVERSION[&quot;unknown&quot;,METHOD[&quot;PROJ ob_tran o_proj=latlon&quot;],PARAMETER[&quot;o_lon_p&quot;,0,ANGLEUNIT[&quot;degree&quot;,0.0174532925199433,ID[&quot;EPSG&quot;,9122]]],PARAMETER[&quot;o_lat_p&quot;,50,ANGLEUNIT[&quot;degree&quot;,0.0174532925199433,ID[&quot;EPSG&quot;,9122]]],PARAMETER[&quot;lon_0&quot;,33,ANGLEUNIT[&quot;degree&quot;,0.0174532925199433,ID[&quot;EPSG&quot;,9122]]]],CS[ellipsoidal,2],AXIS[&quot;longitude&quot;,east,ORDER[1],ANGLEUNIT[&quot;degree&quot;,0.0174532925199433,ID[&quot;EPSG&quot;,9122]]],AXIS[&quot;latitude&quot;,north,ORDER[2],ANGLEUNIT[&quot;degree&quot;,0.0174532925199433,ID[&quot;EPSG&quot;,9122]]]]</dd><dt><span>GeoTransform :</span></dt><dd>-8.410000193686713 0.22000000590369814 0.0 -6.309999807208192 0.0 0.2199999958861108</dd></dl></div><div class='xr-var-data'><pre>array(0)</pre></div></li></ul></div></li><li class='xr-section-item'><input id='section-a68b528d-39b0-4fe6-8a13-5e4d6519dcf7' class='xr-section-summary-in' type='checkbox' disabled ><label for='section-a68b528d-39b0-4fe6-8a13-5e4d6519dcf7' class='xr-section-summary'  title='Expand/collapse section'>Attributes: <span>(0)</span></label><div class='xr-section-inline-details'></div><div class='xr-section-details'><dl class='xr-attrs'></dl></div></li></ul></div></div>"
      ],
      "text/plain": [
       "<xarray.DataArray 'time' (time: 9)>\n",
       "array(['2008-06-30T00:00:00.000000000', '2008-07-31T00:00:00.000000000',\n",
       "       '2008-08-31T00:00:00.000000000', '2008-09-30T00:00:00.000000000',\n",
       "       '2008-10-31T00:00:00.000000000', '2008-11-30T00:00:00.000000000',\n",
       "       '2008-12-31T00:00:00.000000000', '2009-01-31T00:00:00.000000000',\n",
       "       '2009-02-28T00:00:00.000000000'], dtype='datetime64[ns]')\n",
       "Coordinates:\n",
       "  * time          (time) datetime64[ns] 2008-06-30 2008-07-31 ... 2009-02-28\n",
       "    rotated_pole  int64 0\n",
       "    spatial_ref   int64 0"
      ]
     },
     "execution_count": 21,
     "metadata": {},
     "output_type": "execute_result"
    }
   ],
   "source": [
    "da_monthly_verif.time"
   ]
  },
  {
   "cell_type": "code",
   "execution_count": 22,
   "id": "fd919c30-dcc9-4fa7-b1d8-2d4a74e44daf",
   "metadata": {},
   "outputs": [
    {
     "data": {
      "text/plain": [
       "<matplotlib.collections.QuadMesh at 0x7f715936f430>"
      ]
     },
     "execution_count": 22,
     "metadata": {},
     "output_type": "execute_result"
    },
    {
     "data": {
      "image/png": "[encoded data removed]",
      "text/plain": [
       "<Figure size 432x288 with 2 Axes>"
      ]
     },
     "metadata": {
      "needs_background": "light"
     },
     "output_type": "display_data"
    }
   ],
   "source": [
    "da_monthly_verif.isel(time=1).plot()"
   ]
  },
  {
   "cell_type": "markdown",
   "id": "bd011a33-d929-4bb4-94ba-3b1c89b94bd7",
   "metadata": {},
   "source": [
    "Save the prepared verification file"
   ]
  },
  {
   "cell_type": "code",
   "execution_count": 23,
   "id": "43cff245-db0d-4d8a-ba24-11ac18b48945",
   "metadata": {},
   "outputs": [
    {
     "data": {
      "text/plain": [
       "'model_prec_monthly_verif.nc created'"
      ]
     },
     "execution_count": 23,
     "metadata": {},
     "output_type": "execute_result"
    }
   ],
   "source": [
    "prepath = 'data/post_processed/'\n",
    "util.save_verif_file(da=da_monthly_verif, var=var,\n",
    "                     prepath=prepath, verif_type='monthly')"
   ]
  },
  {
   "cell_type": "markdown",
   "id": "81a7628a-492f-403c-bbd0-f630e5896514",
   "metadata": {},
   "source": [
    "##### Seasonal Verification\n",
    "\n",
    "- Seasonal mean of monthly values"
   ]
  },
  {
   "cell_type": "code",
   "execution_count": 102,
   "id": "d1bc46ef-305f-4e13-82f8-1a7348ffcc30",
   "metadata": {},
   "outputs": [
    {
     "name": "stdout",
     "output_type": "stream",
     "text": [
      "Warning: aggregating by 1M mean\n",
      "Warning: aggregating by 1M mean\n"
     ]
    }
   ],
   "source": [
    "da_model_aggr = util.aggregate_file(da_model, agg_by, agg_for)\n",
    "da_era_aggr = util.aggregate_file(da_era, agg_by, agg_for)"
   ]
  },
  {
   "cell_type": "code",
   "execution_count": 103,
   "id": "eb3d5d1e-7b77-4486-85ce-419ebbbc20a1",
   "metadata": {},
   "outputs": [],
   "source": [
    "da_model_seasonal = da_model_aggr.groupby(\"time.season\").mean(dim=\"time\")\n",
    "da_era_seasonal = da_era_aggr.groupby(\"time.season\").mean(dim=\"time\")"
   ]
  },
  {
   "cell_type": "code",
   "execution_count": 104,
   "id": "5432b0e9-9dc9-43de-9f0d-e1866921843b",
   "metadata": {},
   "outputs": [
    {
     "data": {
      "text/plain": [
       "array(['DJF', 'JJA', 'SON'], dtype=object)"
      ]
     },
     "execution_count": 104,
     "metadata": {},
     "output_type": "execute_result"
    }
   ],
   "source": [
    "da_model_seasonal.season.values"
   ]
  },
  {
   "cell_type": "code",
   "execution_count": 105,
   "id": "6c7fb638-e8a8-4597-bf5d-61b7215db0e3",
   "metadata": {},
   "outputs": [],
   "source": [
    "da_seasonal_verif = (da_model_seasonal - da_era_seasonal)"
   ]
  },
  {
   "cell_type": "code",
   "execution_count": 106,
   "id": "5c1cf762-deee-42c2-a324-d42bcbafd31b",
   "metadata": {},
   "outputs": [
    {
     "data": {
      "text/plain": [
       "<matplotlib.collections.QuadMesh at 0x7f7156446790>"
      ]
     },
     "execution_count": 106,
     "metadata": {},
     "output_type": "execute_result"
    },
    {
     "data": {
      "image/png": "[encoded data removed]",
      "text/plain": [
       "<Figure size 432x288 with 2 Axes>"
      ]
     },
     "metadata": {
      "needs_background": "light"
     },
     "output_type": "display_data"
    }
   ],
   "source": [
    "da_seasonal_verif.sel(season=\"DJF\").plot()"
   ]
  },
  {
   "cell_type": "markdown",
   "id": "43e97726-b06d-46c8-80ea-285388b6deef",
   "metadata": {},
   "source": [
    "Save the prepared verification file"
   ]
  },
  {
   "cell_type": "code",
   "execution_count": 107,
   "id": "54632078-f0b8-4f5e-bf96-a0b8f85fdb4a",
   "metadata": {},
   "outputs": [
    {
     "data": {
      "text/plain": [
       "'model_t2m_seasonal_verif.nc created'"
      ]
     },
     "execution_count": 107,
     "metadata": {},
     "output_type": "execute_result"
    }
   ],
   "source": [
    "prepath = 'data/post_processed/'\n",
    "util.save_verif_file(da=da_seasonal_verif, var=var,\n",
    "                     prepath=prepath, verif_type='seasonal')"
   ]
  },
  {
   "cell_type": "code",
   "execution_count": null,
   "id": "fba339c0-76a5-4aa4-9ee1-c7cf9da8fa1c",
   "metadata": {},
   "outputs": [],
   "source": []
  }
 ],
 "metadata": {
  "kernelspec": {
   "display_name": "Python 3 (ipykernel)",
   "language": "python",
   "name": "python3"
  },
  "language_info": {
   "codemirror_mode": {
    "name": "ipython",
    "version": 3
   },
   "file_extension": ".py",
   "mimetype": "text/x-python",
   "name": "python",
   "nbconvert_exporter": "python",
   "pygments_lexer": "ipython3",
   "version": "3.9.7"
  }
 },
 "nbformat": 4,
 "nbformat_minor": 5
}
